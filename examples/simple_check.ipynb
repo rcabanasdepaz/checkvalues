{
  "nbformat": 4,
  "nbformat_minor": 0,
  "metadata": {
    "colab": {
      "provenance": []
    },
    "kernelspec": {
      "name": "python3",
      "display_name": "Python 3"
    },
    "language_info": {
      "name": "python"
    }
  },
  "cells": [
    {
      "cell_type": "markdown",
      "source": [
        "## Setup\n",
        "The package can be installed either from GitHub:"
      ],
      "metadata": {
        "id": "uSkmLQw_-Ppi"
      }
    },
    {
      "cell_type": "code",
      "source": [
        "!pip install git+https://github.com/rcabanasdepaz/checkvalues.git#egg=checkvalues"
      ],
      "metadata": {
        "id": "tVSCJpKMVPtO"
      },
      "execution_count": null,
      "outputs": []
    },
    {
      "cell_type": "markdown",
      "source": [
        "or from PyPI:"
      ],
      "metadata": {
        "id": "1xZzSE-k-aII"
      }
    },
    {
      "cell_type": "code",
      "source": [
        "!pip install checkvalues"
      ],
      "metadata": {
        "id": "lWCsSWBi-o7j"
      },
      "execution_count": null,
      "outputs": []
    },
    {
      "cell_type": "markdown",
      "source": [
        "## Exercise and solution set\n",
        "\n",
        "Consider the following exercises:\n",
        "\n",
        "- **Exercise 1**: Define a variable `x` with the integer value 2.\n",
        "- **Exercise 2**: Define a variable `y` with the float value 3.0.\n",
        "- **Exercise 3**: Define a variable `z` with the result of 2+2.\n",
        "- **Exercise 4**: Define a variable `L` with a list containing the values `\"1\", 2, 3.0`.\n",
        "- **Exercise 5**: Define a function `func1` taking two input arguments `a` and `b` and returning the result of the operation $10\\cdot a + b$.\n",
        "\n"
      ],
      "metadata": {
        "id": "H6mVUm5M7ont"
      }
    },
    {
      "cell_type": "markdown",
      "source": [
        "We will consider the following csv file with the correct solutions."
      ],
      "metadata": {
        "id": "HqcyaSx--oEU"
      }
    },
    {
      "cell_type": "code",
      "source": [
        "import pandas as pd\n",
        "pd.read_csv(\"https://raw.githubusercontent.com/rcabanasdepaz/checkvalues/main/examples/solution_example.csv\")"
      ],
      "metadata": {
        "colab": {
          "base_uri": "https://localhost:8080/",
          "height": 235
        },
        "id": "jJuLFRbnY0io",
        "outputId": "7b360707-b775-4570-e6b2-28899b49d410"
      },
      "execution_count": 2,
      "outputs": [
        {
          "output_type": "execute_result",
          "data": {
            "text/plain": [
              "        label  type   name           args           kwargs  encrypted  \\\n",
              "0  Exercise 1   var      x            NaN              NaN       True   \n",
              "1  Exercise 2   var      y            NaN              NaN       True   \n",
              "2  Exercise 3   var      z            NaN              NaN       True   \n",
              "3  Exercise 4   var      L            NaN              NaN       True   \n",
              "4  Exercise 5  func  func1  int:2;float:3              NaN       True   \n",
              "5  Exercise 5  func  func1            NaN  b=int:2;a=int:3       True   \n",
              "\n",
              "                           expected  points  \n",
              "0  c81e728d9d4c2f636f067f89cc14862c     1.0  \n",
              "1  55c82b601deae028c1c5e87fd820923d     1.0  \n",
              "2  a87ff679a2f3e71d9181a67b7542122c     1.0  \n",
              "3  3730122527a164abdec1a5acb762af67     1.0  \n",
              "4  6bc071ec71e51c704acd13cdc898fd93     0.5  \n",
              "5  6364d3f0f495b6ab9dcf8d3b5c6e0b01     0.5  "
            ],
            "text/html": [
              "\n",
              "  <div id=\"df-1c3f63f2-1853-4895-906a-8edfd2185ff2\" class=\"colab-df-container\">\n",
              "    <div>\n",
              "<style scoped>\n",
              "    .dataframe tbody tr th:only-of-type {\n",
              "        vertical-align: middle;\n",
              "    }\n",
              "\n",
              "    .dataframe tbody tr th {\n",
              "        vertical-align: top;\n",
              "    }\n",
              "\n",
              "    .dataframe thead th {\n",
              "        text-align: right;\n",
              "    }\n",
              "</style>\n",
              "<table border=\"1\" class=\"dataframe\">\n",
              "  <thead>\n",
              "    <tr style=\"text-align: right;\">\n",
              "      <th></th>\n",
              "      <th>label</th>\n",
              "      <th>type</th>\n",
              "      <th>name</th>\n",
              "      <th>args</th>\n",
              "      <th>kwargs</th>\n",
              "      <th>encrypted</th>\n",
              "      <th>expected</th>\n",
              "      <th>points</th>\n",
              "    </tr>\n",
              "  </thead>\n",
              "  <tbody>\n",
              "    <tr>\n",
              "      <th>0</th>\n",
              "      <td>Exercise 1</td>\n",
              "      <td>var</td>\n",
              "      <td>x</td>\n",
              "      <td>NaN</td>\n",
              "      <td>NaN</td>\n",
              "      <td>True</td>\n",
              "      <td>c81e728d9d4c2f636f067f89cc14862c</td>\n",
              "      <td>1.0</td>\n",
              "    </tr>\n",
              "    <tr>\n",
              "      <th>1</th>\n",
              "      <td>Exercise 2</td>\n",
              "      <td>var</td>\n",
              "      <td>y</td>\n",
              "      <td>NaN</td>\n",
              "      <td>NaN</td>\n",
              "      <td>True</td>\n",
              "      <td>55c82b601deae028c1c5e87fd820923d</td>\n",
              "      <td>1.0</td>\n",
              "    </tr>\n",
              "    <tr>\n",
              "      <th>2</th>\n",
              "      <td>Exercise 3</td>\n",
              "      <td>var</td>\n",
              "      <td>z</td>\n",
              "      <td>NaN</td>\n",
              "      <td>NaN</td>\n",
              "      <td>True</td>\n",
              "      <td>a87ff679a2f3e71d9181a67b7542122c</td>\n",
              "      <td>1.0</td>\n",
              "    </tr>\n",
              "    <tr>\n",
              "      <th>3</th>\n",
              "      <td>Exercise 4</td>\n",
              "      <td>var</td>\n",
              "      <td>L</td>\n",
              "      <td>NaN</td>\n",
              "      <td>NaN</td>\n",
              "      <td>True</td>\n",
              "      <td>3730122527a164abdec1a5acb762af67</td>\n",
              "      <td>1.0</td>\n",
              "    </tr>\n",
              "    <tr>\n",
              "      <th>4</th>\n",
              "      <td>Exercise 5</td>\n",
              "      <td>func</td>\n",
              "      <td>func1</td>\n",
              "      <td>int:2;float:3</td>\n",
              "      <td>NaN</td>\n",
              "      <td>True</td>\n",
              "      <td>6bc071ec71e51c704acd13cdc898fd93</td>\n",
              "      <td>0.5</td>\n",
              "    </tr>\n",
              "    <tr>\n",
              "      <th>5</th>\n",
              "      <td>Exercise 5</td>\n",
              "      <td>func</td>\n",
              "      <td>func1</td>\n",
              "      <td>NaN</td>\n",
              "      <td>b=int:2;a=int:3</td>\n",
              "      <td>True</td>\n",
              "      <td>6364d3f0f495b6ab9dcf8d3b5c6e0b01</td>\n",
              "      <td>0.5</td>\n",
              "    </tr>\n",
              "  </tbody>\n",
              "</table>\n",
              "</div>\n",
              "    <div class=\"colab-df-buttons\">\n",
              "\n",
              "  <div class=\"colab-df-container\">\n",
              "    <button class=\"colab-df-convert\" onclick=\"convertToInteractive('df-1c3f63f2-1853-4895-906a-8edfd2185ff2')\"\n",
              "            title=\"Convert this dataframe to an interactive table.\"\n",
              "            style=\"display:none;\">\n",
              "\n",
              "  <svg xmlns=\"http://www.w3.org/2000/svg\" height=\"24px\" viewBox=\"0 -960 960 960\">\n",
              "    <path d=\"M120-120v-720h720v720H120Zm60-500h600v-160H180v160Zm220 220h160v-160H400v160Zm0 220h160v-160H400v160ZM180-400h160v-160H180v160Zm440 0h160v-160H620v160ZM180-180h160v-160H180v160Zm440 0h160v-160H620v160Z\"/>\n",
              "  </svg>\n",
              "    </button>\n",
              "\n",
              "  <style>\n",
              "    .colab-df-container {\n",
              "      display:flex;\n",
              "      gap: 12px;\n",
              "    }\n",
              "\n",
              "    .colab-df-convert {\n",
              "      background-color: #E8F0FE;\n",
              "      border: none;\n",
              "      border-radius: 50%;\n",
              "      cursor: pointer;\n",
              "      display: none;\n",
              "      fill: #1967D2;\n",
              "      height: 32px;\n",
              "      padding: 0 0 0 0;\n",
              "      width: 32px;\n",
              "    }\n",
              "\n",
              "    .colab-df-convert:hover {\n",
              "      background-color: #E2EBFA;\n",
              "      box-shadow: 0px 1px 2px rgba(60, 64, 67, 0.3), 0px 1px 3px 1px rgba(60, 64, 67, 0.15);\n",
              "      fill: #174EA6;\n",
              "    }\n",
              "\n",
              "    .colab-df-buttons div {\n",
              "      margin-bottom: 4px;\n",
              "    }\n",
              "\n",
              "    [theme=dark] .colab-df-convert {\n",
              "      background-color: #3B4455;\n",
              "      fill: #D2E3FC;\n",
              "    }\n",
              "\n",
              "    [theme=dark] .colab-df-convert:hover {\n",
              "      background-color: #434B5C;\n",
              "      box-shadow: 0px 1px 3px 1px rgba(0, 0, 0, 0.15);\n",
              "      filter: drop-shadow(0px 1px 2px rgba(0, 0, 0, 0.3));\n",
              "      fill: #FFFFFF;\n",
              "    }\n",
              "  </style>\n",
              "\n",
              "    <script>\n",
              "      const buttonEl =\n",
              "        document.querySelector('#df-1c3f63f2-1853-4895-906a-8edfd2185ff2 button.colab-df-convert');\n",
              "      buttonEl.style.display =\n",
              "        google.colab.kernel.accessAllowed ? 'block' : 'none';\n",
              "\n",
              "      async function convertToInteractive(key) {\n",
              "        const element = document.querySelector('#df-1c3f63f2-1853-4895-906a-8edfd2185ff2');\n",
              "        const dataTable =\n",
              "          await google.colab.kernel.invokeFunction('convertToInteractive',\n",
              "                                                    [key], {});\n",
              "        if (!dataTable) return;\n",
              "\n",
              "        const docLinkHtml = 'Like what you see? Visit the ' +\n",
              "          '<a target=\"_blank\" href=https://colab.research.google.com/notebooks/data_table.ipynb>data table notebook</a>'\n",
              "          + ' to learn more about interactive tables.';\n",
              "        element.innerHTML = '';\n",
              "        dataTable['output_type'] = 'display_data';\n",
              "        await google.colab.output.renderOutput(dataTable, element);\n",
              "        const docLink = document.createElement('div');\n",
              "        docLink.innerHTML = docLinkHtml;\n",
              "        element.appendChild(docLink);\n",
              "      }\n",
              "    </script>\n",
              "  </div>\n",
              "\n",
              "\n",
              "<div id=\"df-bbfc163c-d809-4fee-8f3d-6e48de6813b6\">\n",
              "  <button class=\"colab-df-quickchart\" onclick=\"quickchart('df-bbfc163c-d809-4fee-8f3d-6e48de6813b6')\"\n",
              "            title=\"Suggest charts.\"\n",
              "            style=\"display:none;\">\n",
              "\n",
              "<svg xmlns=\"http://www.w3.org/2000/svg\" height=\"24px\"viewBox=\"0 0 24 24\"\n",
              "     width=\"24px\">\n",
              "    <g>\n",
              "        <path d=\"M19 3H5c-1.1 0-2 .9-2 2v14c0 1.1.9 2 2 2h14c1.1 0 2-.9 2-2V5c0-1.1-.9-2-2-2zM9 17H7v-7h2v7zm4 0h-2V7h2v10zm4 0h-2v-4h2v4z\"/>\n",
              "    </g>\n",
              "</svg>\n",
              "  </button>\n",
              "\n",
              "<style>\n",
              "  .colab-df-quickchart {\n",
              "    background-color: #E8F0FE;\n",
              "    border: none;\n",
              "    border-radius: 50%;\n",
              "    cursor: pointer;\n",
              "    display: none;\n",
              "    fill: #1967D2;\n",
              "    height: 32px;\n",
              "    padding: 0 0 0 0;\n",
              "    width: 32px;\n",
              "  }\n",
              "\n",
              "  .colab-df-quickchart:hover {\n",
              "    background-color: #E2EBFA;\n",
              "    box-shadow: 0px 1px 2px rgba(60, 64, 67, 0.3), 0px 1px 3px 1px rgba(60, 64, 67, 0.15);\n",
              "    fill: #174EA6;\n",
              "  }\n",
              "\n",
              "  [theme=dark] .colab-df-quickchart {\n",
              "    background-color: #3B4455;\n",
              "    fill: #D2E3FC;\n",
              "  }\n",
              "\n",
              "  [theme=dark] .colab-df-quickchart:hover {\n",
              "    background-color: #434B5C;\n",
              "    box-shadow: 0px 1px 3px 1px rgba(0, 0, 0, 0.15);\n",
              "    filter: drop-shadow(0px 1px 2px rgba(0, 0, 0, 0.3));\n",
              "    fill: #FFFFFF;\n",
              "  }\n",
              "</style>\n",
              "\n",
              "  <script>\n",
              "    async function quickchart(key) {\n",
              "      const charts = await google.colab.kernel.invokeFunction(\n",
              "          'suggestCharts', [key], {});\n",
              "    }\n",
              "    (() => {\n",
              "      let quickchartButtonEl =\n",
              "        document.querySelector('#df-bbfc163c-d809-4fee-8f3d-6e48de6813b6 button');\n",
              "      quickchartButtonEl.style.display =\n",
              "        google.colab.kernel.accessAllowed ? 'block' : 'none';\n",
              "    })();\n",
              "  </script>\n",
              "</div>\n",
              "    </div>\n",
              "  </div>\n"
            ]
          },
          "metadata": {},
          "execution_count": 2
        }
      ]
    },
    {
      "cell_type": "markdown",
      "source": [
        "## Usage\n",
        "\n",
        "Import the function `check_solution`."
      ],
      "metadata": {
        "id": "4j69YTsP_ZiZ"
      }
    },
    {
      "cell_type": "code",
      "source": [
        "from checkvalues.checker import check_solution"
      ],
      "metadata": {
        "id": "GGkbutguVXGr"
      },
      "execution_count": 3,
      "outputs": []
    },
    {
      "cell_type": "markdown",
      "source": [
        "This function takes as input the address with the solution file. If invoked without havind solved the exercises, error messages will be shown."
      ],
      "metadata": {
        "id": "DF8Ud6i8AMWL"
      }
    },
    {
      "cell_type": "code",
      "source": [
        "# Run the checker without having defined the variables and functions\n",
        "check_solution(\"https://raw.githubusercontent.com/rcabanasdepaz/checkvalues/main/examples/solution_example.csv\")\n"
      ],
      "metadata": {
        "colab": {
          "base_uri": "https://localhost:8080/"
        },
        "id": "aO214OMAX0Td",
        "outputId": "05f1b823-09b4-4ee9-fd30-ace23e59c856"
      },
      "execution_count": 4,
      "outputs": [
        {
          "output_type": "stream",
          "name": "stdout",
          "text": [
            "Exercise 1. ERROR: x is not defined.\n",
            "Exercise 2. ERROR: y is not defined.\n",
            "Exercise 3. ERROR: z is not defined.\n",
            "Exercise 4. ERROR: L is not defined.\n",
            "Exercise 5. ERROR: func1 is not defined.\n",
            "Exercise 5. ERROR: func1 is not defined.\n",
            "Total points: 0/5.0\n"
          ]
        }
      ]
    },
    {
      "cell_type": "markdown",
      "source": [
        "The correct code is shown below."
      ],
      "metadata": {
        "id": "5HcXuq5-A1Wp"
      }
    },
    {
      "cell_type": "code",
      "source": [
        "\n",
        "# Correct code\n",
        "def func1(a,b):\n",
        "    return 10*a+b\n",
        "x = 2\n",
        "y = 3.0\n",
        "z = 2+2\n",
        "L = [\"1\", 2, 3.0]\n",
        "\n"
      ],
      "metadata": {
        "id": "8kojU8wNWVXC"
      },
      "execution_count": 5,
      "outputs": []
    },
    {
      "cell_type": "markdown",
      "source": [
        "Check that the results are correct."
      ],
      "metadata": {
        "id": "jHX657_bBBui"
      }
    },
    {
      "cell_type": "code",
      "source": [
        "\n",
        "check_solution(\"https://raw.githubusercontent.com/rcabanasdepaz/checkvalues/main/examples/solution_example.csv\")\n"
      ],
      "metadata": {
        "colab": {
          "base_uri": "https://localhost:8080/"
        },
        "id": "bTRdnUdwYJob",
        "outputId": "5d7c1e17-5a9c-4ec1-bcef-0ab48c502f9f"
      },
      "execution_count": 6,
      "outputs": [
        {
          "output_type": "stream",
          "name": "stdout",
          "text": [
            "Exercise 1. correct (1.0 points)\n",
            "Exercise 2. correct (1.0 points)\n",
            "Exercise 3. correct (1.0 points)\n",
            "Exercise 4. correct (1.0 points)\n",
            "Exercise 5. correct (0.5 points)\n",
            "Exercise 5. correct (0.5 points)\n",
            "Total points: 5.0/5.0\n"
          ]
        }
      ]
    },
    {
      "cell_type": "markdown",
      "source": [
        "A single exercise can be checked."
      ],
      "metadata": {
        "id": "kHGwSORWBHkS"
      }
    },
    {
      "cell_type": "code",
      "source": [
        "check_solution(\"https://raw.githubusercontent.com/rcabanasdepaz/checkvalues/main/examples/solution_example.csv\", label=\"Exercise 5\")\n"
      ],
      "metadata": {
        "colab": {
          "base_uri": "https://localhost:8080/"
        },
        "id": "DD17Q-J2X-ih",
        "outputId": "e99af1c0-f1e8-40fb-fe8d-4b7620e95568"
      },
      "execution_count": 7,
      "outputs": [
        {
          "output_type": "stream",
          "name": "stdout",
          "text": [
            "Exercise 5. correct (0.5 points)\n",
            "Exercise 5. correct (0.5 points)\n",
            "Total points: 1.0/1.0\n"
          ]
        }
      ]
    },
    {
      "cell_type": "markdown",
      "source": [
        "We can also use the functionality with a wrong code."
      ],
      "metadata": {
        "id": "wL9f12fPBaMu"
      }
    },
    {
      "cell_type": "code",
      "source": [
        "# Wrong code\n",
        "def func1(a,b):\n",
        "    return 100*a+b\n",
        "x = 2.0\n",
        "y = 3\n",
        "z = 5\n",
        "L = [\"1\", 2, 3.0, 3]\n"
      ],
      "metadata": {
        "id": "N87OgYxJYDpS"
      },
      "execution_count": 12,
      "outputs": []
    },
    {
      "cell_type": "code",
      "source": [
        "check_solution(\"https://raw.githubusercontent.com/rcabanasdepaz/checkvalues/main/examples/solution_example.csv\")"
      ],
      "metadata": {
        "colab": {
          "base_uri": "https://localhost:8080/"
        },
        "id": "oFf13J7IYM7X",
        "outputId": "8c11700d-3fa5-4e77-ec4b-dbe7323808e1"
      },
      "execution_count": 13,
      "outputs": [
        {
          "output_type": "stream",
          "name": "stdout",
          "text": [
            "Exercise 1. ERROR: x is a variable with a wrong value.\n",
            "Exercise 2. ERROR: y is a variable with a wrong value.\n",
            "Exercise 3. ERROR: z is a variable with a wrong value.\n",
            "Exercise 4. ERROR: L is a variable with a wrong value.\n",
            "Exercise 5. ERROR: function func1 return a wrong value for inputs args=[2, 3.0], kwargs={}.\n",
            "Exercise 5. ERROR: function func1 return a wrong value for inputs args=[], kwargs={'b': 2, 'a': 3}.\n",
            "Total points: 0/5.0\n"
          ]
        }
      ]
    }
  ]
}